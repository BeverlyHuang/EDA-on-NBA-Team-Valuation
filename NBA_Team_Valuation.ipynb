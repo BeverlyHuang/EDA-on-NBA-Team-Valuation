{
  "nbformat": 4,
  "nbformat_minor": 0,
  "metadata": {
    "colab": {
      "name": "NBA_Team_Valuation.ipynb",
      "version": "0.3.2",
      "provenance": [],
      "collapsed_sections": [
        "odLs9m39tlkM",
        "aAAfm7yQ2g8Z",
        "f2JT2c0YS7f5",
        "u4G64jDug1-7",
        "gjJnZM4Pg1_J",
        "eI6ymSetqojC"
      ],
      "include_colab_link": true
    },
    "kernelspec": {
      "name": "python3",
      "display_name": "Python 3"
    },
    "accelerator": "GPU"
  },
  "cells": [
    {
      "cell_type": "markdown",
      "metadata": {
        "id": "view-in-github",
        "colab_type": "text"
      },
      "source": [
        "<a href=\"https://colab.research.google.com/github/BeverlyHuang/EDA-on-NBA-Team-Valuation/blob/master/NBA_Team_Valuation.ipynb\" target=\"_parent\"><img src=\"https://colab.research.google.com/assets/colab-badge.svg\" alt=\"Open In Colab\"/></a>"
      ]
    },
    {
      "metadata": {
        "id": "ftdqokt1hSx9",
        "colab_type": "text"
      },
      "cell_type": "markdown",
      "source": [
        "##EDA on NBA Team Valuation\n",
        "\n"
      ]
    },
    {
      "metadata": {
        "id": "8w97i7pcbmLT",
        "colab_type": "text"
      },
      "cell_type": "markdown",
      "source": [
        "### Import Data"
      ]
    },
    {
      "metadata": {
        "id": "L_hKsBgrg19R",
        "colab_type": "code",
        "outputId": "f8f23cc1-19d6-44ee-dbbe-286768b4eaaa",
        "colab": {
          "base_uri": "https://localhost:8080/",
          "height": 71
        }
      },
      "cell_type": "code",
      "source": [
        "import pandas as pd\n",
        "import statsmodels.api as sm\n",
        "import statsmodels.formula.api as smf\n",
        "import matplotlib.pyplot as plt\n",
        "import seaborn as sns\n",
        "color = sns.color_palette()\n",
        "import warnings\n",
        "warnings.filterwarnings(\"ignore\")\n",
        "%matplotlib inline"
      ],
      "execution_count": 0,
      "outputs": [
        {
          "output_type": "stream",
          "text": [
            "/usr/local/lib/python3.6/dist-packages/statsmodels/compat/pandas.py:56: FutureWarning: The pandas.core.datetools module is deprecated and will be removed in a future version. Please use the pandas.tseries module instead.\n",
            "  from pandas.core import datetools\n"
          ],
          "name": "stderr"
        }
      ]
    },
    {
      "metadata": {
        "id": "xMqHppZfg19Y",
        "colab_type": "code",
        "outputId": "40239606-f95c-4a5c-a9de-2a3da8953117",
        "colab": {
          "base_uri": "https://localhost:8080/",
          "height": 204
        }
      },
      "cell_type": "code",
      "source": [
        "attendance_df = pd.read_csv(\"https://raw.githubusercontent.com/noahgift/socialpowernba/master/data/nba_2017_attendance.csv\");attendance_df.head()"
      ],
      "execution_count": 0,
      "outputs": [
        {
          "output_type": "execute_result",
          "data": {
            "text/html": [
              "<div>\n",
              "<style scoped>\n",
              "    .dataframe tbody tr th:only-of-type {\n",
              "        vertical-align: middle;\n",
              "    }\n",
              "\n",
              "    .dataframe tbody tr th {\n",
              "        vertical-align: top;\n",
              "    }\n",
              "\n",
              "    .dataframe thead th {\n",
              "        text-align: right;\n",
              "    }\n",
              "</style>\n",
              "<table border=\"1\" class=\"dataframe\">\n",
              "  <thead>\n",
              "    <tr style=\"text-align: right;\">\n",
              "      <th></th>\n",
              "      <th>TEAM</th>\n",
              "      <th>GMS</th>\n",
              "      <th>PCT</th>\n",
              "      <th>TOTAL_MILLIONS</th>\n",
              "      <th>AVG_MILLIONS</th>\n",
              "    </tr>\n",
              "  </thead>\n",
              "  <tbody>\n",
              "    <tr>\n",
              "      <th>0</th>\n",
              "      <td>Chicago Bulls</td>\n",
              "      <td>41</td>\n",
              "      <td>104</td>\n",
              "      <td>0.888882</td>\n",
              "      <td>0.021680</td>\n",
              "    </tr>\n",
              "    <tr>\n",
              "      <th>1</th>\n",
              "      <td>Dallas Mavericks</td>\n",
              "      <td>41</td>\n",
              "      <td>103</td>\n",
              "      <td>0.811366</td>\n",
              "      <td>0.019789</td>\n",
              "    </tr>\n",
              "    <tr>\n",
              "      <th>2</th>\n",
              "      <td>Sacramento Kings</td>\n",
              "      <td>41</td>\n",
              "      <td>101</td>\n",
              "      <td>0.721928</td>\n",
              "      <td>0.017608</td>\n",
              "    </tr>\n",
              "    <tr>\n",
              "      <th>3</th>\n",
              "      <td>Miami Heat</td>\n",
              "      <td>41</td>\n",
              "      <td>100</td>\n",
              "      <td>0.805400</td>\n",
              "      <td>0.019643</td>\n",
              "    </tr>\n",
              "    <tr>\n",
              "      <th>4</th>\n",
              "      <td>Toronto Raptors</td>\n",
              "      <td>41</td>\n",
              "      <td>100</td>\n",
              "      <td>0.813050</td>\n",
              "      <td>0.019830</td>\n",
              "    </tr>\n",
              "  </tbody>\n",
              "</table>\n",
              "</div>"
            ],
            "text/plain": [
              "               TEAM  GMS  PCT  TOTAL_MILLIONS  AVG_MILLIONS\n",
              "0     Chicago Bulls   41  104        0.888882      0.021680\n",
              "1  Dallas Mavericks   41  103        0.811366      0.019789\n",
              "2  Sacramento Kings   41  101        0.721928      0.017608\n",
              "3        Miami Heat   41  100        0.805400      0.019643\n",
              "4   Toronto Raptors   41  100        0.813050      0.019830"
            ]
          },
          "metadata": {
            "tags": []
          },
          "execution_count": 3
        }
      ]
    },
    {
      "metadata": {
        "id": "h_8Y4ar1g19b",
        "colab_type": "code",
        "outputId": "644646e4-bbc4-4d66-b8ad-041d8954414a",
        "colab": {
          "base_uri": "https://localhost:8080/",
          "height": 266
        }
      },
      "cell_type": "code",
      "source": [
        "endorsement_df = pd.read_csv(\"https://raw.githubusercontent.com/noahgift/socialpowernba/master/data/nba_2017_endorsements.csv\");endorsement_df.head()\n",
        "endorsement_df = endorsement_df[['TEAM', 'SALARY_MILLIONS', 'ENDORSEMENT_MILLIONS']].groupby(['TEAM'], as_index=False).mean()\n",
        "endorsement_df"
      ],
      "execution_count": 0,
      "outputs": [
        {
          "output_type": "execute_result",
          "data": {
            "text/html": [
              "<div>\n",
              "<style scoped>\n",
              "    .dataframe tbody tr th:only-of-type {\n",
              "        vertical-align: middle;\n",
              "    }\n",
              "\n",
              "    .dataframe tbody tr th {\n",
              "        vertical-align: top;\n",
              "    }\n",
              "\n",
              "    .dataframe thead th {\n",
              "        text-align: right;\n",
              "    }\n",
              "</style>\n",
              "<table border=\"1\" class=\"dataframe\">\n",
              "  <thead>\n",
              "    <tr style=\"text-align: right;\">\n",
              "      <th></th>\n",
              "      <th>TEAM</th>\n",
              "      <th>SALARY_MILLIONS</th>\n",
              "      <th>ENDORSEMENT_MILLIONS</th>\n",
              "    </tr>\n",
              "  </thead>\n",
              "  <tbody>\n",
              "    <tr>\n",
              "      <th>0</th>\n",
              "      <td>Chicago Bulls</td>\n",
              "      <td>23.0</td>\n",
              "      <td>13.0</td>\n",
              "    </tr>\n",
              "    <tr>\n",
              "      <th>1</th>\n",
              "      <td>Cleveland Cavaliers</td>\n",
              "      <td>24.5</td>\n",
              "      <td>34.0</td>\n",
              "    </tr>\n",
              "    <tr>\n",
              "      <th>2</th>\n",
              "      <td>Golden State Warriors</td>\n",
              "      <td>19.5</td>\n",
              "      <td>35.5</td>\n",
              "    </tr>\n",
              "    <tr>\n",
              "      <th>3</th>\n",
              "      <td>Houston Rockets</td>\n",
              "      <td>27.0</td>\n",
              "      <td>20.0</td>\n",
              "    </tr>\n",
              "    <tr>\n",
              "      <th>4</th>\n",
              "      <td>Los Angeles Clippers</td>\n",
              "      <td>23.0</td>\n",
              "      <td>8.0</td>\n",
              "    </tr>\n",
              "    <tr>\n",
              "      <th>5</th>\n",
              "      <td>New York Knicks</td>\n",
              "      <td>23.0</td>\n",
              "      <td>11.0</td>\n",
              "    </tr>\n",
              "    <tr>\n",
              "      <th>6</th>\n",
              "      <td>Oklahoma City Thunder</td>\n",
              "      <td>27.0</td>\n",
              "      <td>15.0</td>\n",
              "    </tr>\n",
              "  </tbody>\n",
              "</table>\n",
              "</div>"
            ],
            "text/plain": [
              "                    TEAM  SALARY_MILLIONS  ENDORSEMENT_MILLIONS\n",
              "0          Chicago Bulls             23.0                  13.0\n",
              "1    Cleveland Cavaliers             24.5                  34.0\n",
              "2  Golden State Warriors             19.5                  35.5\n",
              "3        Houston Rockets             27.0                  20.0\n",
              "4   Los Angeles Clippers             23.0                   8.0\n",
              "5        New York Knicks             23.0                  11.0\n",
              "6  Oklahoma City Thunder             27.0                  15.0"
            ]
          },
          "metadata": {
            "tags": []
          },
          "execution_count": 15
        }
      ]
    },
    {
      "metadata": {
        "id": "4B9AFL5ug19d",
        "colab_type": "code",
        "outputId": "677c8141-a90f-493d-f6da-861fd81de854",
        "colab": {
          "base_uri": "https://localhost:8080/",
          "height": 204
        }
      },
      "cell_type": "code",
      "source": [
        "valuations_df = pd.read_csv(\"https://raw.githubusercontent.com/noahgift/socialpowernba/master/data/nba_2017_team_valuations.csv\");valuations_df.head()"
      ],
      "execution_count": 0,
      "outputs": [
        {
          "output_type": "execute_result",
          "data": {
            "text/html": [
              "<div>\n",
              "<style scoped>\n",
              "    .dataframe tbody tr th:only-of-type {\n",
              "        vertical-align: middle;\n",
              "    }\n",
              "\n",
              "    .dataframe tbody tr th {\n",
              "        vertical-align: top;\n",
              "    }\n",
              "\n",
              "    .dataframe thead th {\n",
              "        text-align: right;\n",
              "    }\n",
              "</style>\n",
              "<table border=\"1\" class=\"dataframe\">\n",
              "  <thead>\n",
              "    <tr style=\"text-align: right;\">\n",
              "      <th></th>\n",
              "      <th>TEAM</th>\n",
              "      <th>VALUE_MILLIONS</th>\n",
              "    </tr>\n",
              "  </thead>\n",
              "  <tbody>\n",
              "    <tr>\n",
              "      <th>0</th>\n",
              "      <td>New York Knicks</td>\n",
              "      <td>3300.0</td>\n",
              "    </tr>\n",
              "    <tr>\n",
              "      <th>1</th>\n",
              "      <td>Los Angeles Lakers</td>\n",
              "      <td>3000.0</td>\n",
              "    </tr>\n",
              "    <tr>\n",
              "      <th>2</th>\n",
              "      <td>Golden State Warriors</td>\n",
              "      <td>2600.0</td>\n",
              "    </tr>\n",
              "    <tr>\n",
              "      <th>3</th>\n",
              "      <td>Chicago Bulls</td>\n",
              "      <td>2500.0</td>\n",
              "    </tr>\n",
              "    <tr>\n",
              "      <th>4</th>\n",
              "      <td>Boston Celtics</td>\n",
              "      <td>2200.0</td>\n",
              "    </tr>\n",
              "  </tbody>\n",
              "</table>\n",
              "</div>"
            ],
            "text/plain": [
              "                    TEAM  VALUE_MILLIONS\n",
              "0        New York Knicks          3300.0\n",
              "1     Los Angeles Lakers          3000.0\n",
              "2  Golden State Warriors          2600.0\n",
              "3          Chicago Bulls          2500.0\n",
              "4         Boston Celtics          2200.0"
            ]
          },
          "metadata": {
            "tags": []
          },
          "execution_count": 5
        }
      ]
    },
    {
      "metadata": {
        "id": "6QGMORfag19s",
        "colab_type": "code",
        "outputId": "5267f9a9-439e-4278-b557-399653b5d6d2",
        "colab": {
          "base_uri": "https://localhost:8080/",
          "height": 204
        }
      },
      "cell_type": "code",
      "source": [
        "elo_df = pd.read_csv(\"https://raw.githubusercontent.com/noahgift/socialpowernba/master/data/nba_2017_elo.csv\");elo_df.head()"
      ],
      "execution_count": 0,
      "outputs": [
        {
          "output_type": "execute_result",
          "data": {
            "text/html": [
              "<div>\n",
              "<style scoped>\n",
              "    .dataframe tbody tr th:only-of-type {\n",
              "        vertical-align: middle;\n",
              "    }\n",
              "\n",
              "    .dataframe tbody tr th {\n",
              "        vertical-align: top;\n",
              "    }\n",
              "\n",
              "    .dataframe thead th {\n",
              "        text-align: right;\n",
              "    }\n",
              "</style>\n",
              "<table border=\"1\" class=\"dataframe\">\n",
              "  <thead>\n",
              "    <tr style=\"text-align: right;\">\n",
              "      <th></th>\n",
              "      <th>ELO</th>\n",
              "      <th>TEAM</th>\n",
              "      <th>CONF</th>\n",
              "    </tr>\n",
              "  </thead>\n",
              "  <tbody>\n",
              "    <tr>\n",
              "      <th>0</th>\n",
              "      <td>1770</td>\n",
              "      <td>Golden State Warriors</td>\n",
              "      <td>West</td>\n",
              "    </tr>\n",
              "    <tr>\n",
              "      <th>1</th>\n",
              "      <td>1661</td>\n",
              "      <td>San Antonio Spurs</td>\n",
              "      <td>West</td>\n",
              "    </tr>\n",
              "    <tr>\n",
              "      <th>2</th>\n",
              "      <td>1636</td>\n",
              "      <td>Los Angeles Clippers</td>\n",
              "      <td>West</td>\n",
              "    </tr>\n",
              "    <tr>\n",
              "      <th>3</th>\n",
              "      <td>1617</td>\n",
              "      <td>Utah Jazz</td>\n",
              "      <td>West</td>\n",
              "    </tr>\n",
              "    <tr>\n",
              "      <th>4</th>\n",
              "      <td>1602</td>\n",
              "      <td>Houston Rockets</td>\n",
              "      <td>West</td>\n",
              "    </tr>\n",
              "  </tbody>\n",
              "</table>\n",
              "</div>"
            ],
            "text/plain": [
              "    ELO                   TEAM  CONF\n",
              "0  1770  Golden State Warriors  West\n",
              "1  1661      San Antonio Spurs  West\n",
              "2  1636   Los Angeles Clippers  West\n",
              "3  1617              Utah Jazz  West\n",
              "4  1602        Houston Rockets  West"
            ]
          },
          "metadata": {
            "tags": []
          },
          "execution_count": 6
        }
      ]
    },
    {
      "metadata": {
        "colab_type": "text",
        "id": "51UyKud8lcEm"
      },
      "cell_type": "markdown",
      "source": [
        "### Merge Data into one Dataframe"
      ]
    },
    {
      "metadata": {
        "id": "839EmHB5TsDh",
        "colab_type": "code",
        "outputId": "c63820e0-31ae-4c32-b8d9-cc71031fe83b",
        "colab": {
          "base_uri": "https://localhost:8080/",
          "height": 204
        }
      },
      "cell_type": "code",
      "source": [
        "from functools import reduce\n",
        "dfs = [attendance_df, elo_df, endorsement_df, valuations_df]\n",
        "df_nba = reduce(lambda left, right: pd.merge(left, right, how='inner', on=\"TEAM\"), dfs)\n",
        "df_nba.head()"
      ],
      "execution_count": 0,
      "outputs": [
        {
          "output_type": "execute_result",
          "data": {
            "text/html": [
              "<div>\n",
              "<style scoped>\n",
              "    .dataframe tbody tr th:only-of-type {\n",
              "        vertical-align: middle;\n",
              "    }\n",
              "\n",
              "    .dataframe tbody tr th {\n",
              "        vertical-align: top;\n",
              "    }\n",
              "\n",
              "    .dataframe thead th {\n",
              "        text-align: right;\n",
              "    }\n",
              "</style>\n",
              "<table border=\"1\" class=\"dataframe\">\n",
              "  <thead>\n",
              "    <tr style=\"text-align: right;\">\n",
              "      <th></th>\n",
              "      <th>TEAM</th>\n",
              "      <th>GMS</th>\n",
              "      <th>PCT</th>\n",
              "      <th>TOTAL_MILLIONS</th>\n",
              "      <th>AVG_MILLIONS</th>\n",
              "      <th>ELO</th>\n",
              "      <th>CONF</th>\n",
              "      <th>SALARY_MILLIONS</th>\n",
              "      <th>ENDORSEMENT_MILLIONS</th>\n",
              "      <th>VALUE_MILLIONS</th>\n",
              "    </tr>\n",
              "  </thead>\n",
              "  <tbody>\n",
              "    <tr>\n",
              "      <th>0</th>\n",
              "      <td>Chicago Bulls</td>\n",
              "      <td>41</td>\n",
              "      <td>104</td>\n",
              "      <td>0.888882</td>\n",
              "      <td>0.021680</td>\n",
              "      <td>1519</td>\n",
              "      <td>East</td>\n",
              "      <td>23.0</td>\n",
              "      <td>13.0</td>\n",
              "      <td>2500.0</td>\n",
              "    </tr>\n",
              "    <tr>\n",
              "      <th>1</th>\n",
              "      <td>Los Angeles Clippers</td>\n",
              "      <td>41</td>\n",
              "      <td>100</td>\n",
              "      <td>0.782609</td>\n",
              "      <td>0.019088</td>\n",
              "      <td>1636</td>\n",
              "      <td>West</td>\n",
              "      <td>23.0</td>\n",
              "      <td>8.0</td>\n",
              "      <td>2000.0</td>\n",
              "    </tr>\n",
              "    <tr>\n",
              "      <th>2</th>\n",
              "      <td>Cleveland Cavaliers</td>\n",
              "      <td>41</td>\n",
              "      <td>100</td>\n",
              "      <td>0.843042</td>\n",
              "      <td>0.020562</td>\n",
              "      <td>1545</td>\n",
              "      <td>East</td>\n",
              "      <td>24.5</td>\n",
              "      <td>34.0</td>\n",
              "      <td>1200.0</td>\n",
              "    </tr>\n",
              "    <tr>\n",
              "      <th>3</th>\n",
              "      <td>Golden State Warriors</td>\n",
              "      <td>41</td>\n",
              "      <td>100</td>\n",
              "      <td>0.803436</td>\n",
              "      <td>0.019596</td>\n",
              "      <td>1770</td>\n",
              "      <td>West</td>\n",
              "      <td>19.5</td>\n",
              "      <td>35.5</td>\n",
              "      <td>2600.0</td>\n",
              "    </tr>\n",
              "    <tr>\n",
              "      <th>4</th>\n",
              "      <td>Oklahoma City Thunder</td>\n",
              "      <td>41</td>\n",
              "      <td>100</td>\n",
              "      <td>0.746323</td>\n",
              "      <td>0.018203</td>\n",
              "      <td>1543</td>\n",
              "      <td>West</td>\n",
              "      <td>27.0</td>\n",
              "      <td>15.0</td>\n",
              "      <td>1025.0</td>\n",
              "    </tr>\n",
              "  </tbody>\n",
              "</table>\n",
              "</div>"
            ],
            "text/plain": [
              "                    TEAM  GMS  PCT  TOTAL_MILLIONS  AVG_MILLIONS   ELO  CONF  \\\n",
              "0          Chicago Bulls   41  104        0.888882      0.021680  1519  East   \n",
              "1   Los Angeles Clippers   41  100        0.782609      0.019088  1636  West   \n",
              "2    Cleveland Cavaliers   41  100        0.843042      0.020562  1545  East   \n",
              "3  Golden State Warriors   41  100        0.803436      0.019596  1770  West   \n",
              "4  Oklahoma City Thunder   41  100        0.746323      0.018203  1543  West   \n",
              "\n",
              "   SALARY_MILLIONS  ENDORSEMENT_MILLIONS  VALUE_MILLIONS  \n",
              "0             23.0                  13.0          2500.0  \n",
              "1             23.0                   8.0          2000.0  \n",
              "2             24.5                  34.0          1200.0  \n",
              "3             19.5                  35.5          2600.0  \n",
              "4             27.0                  15.0          1025.0  "
            ]
          },
          "metadata": {
            "tags": []
          },
          "execution_count": 61
        }
      ]
    },
    {
      "metadata": {
        "id": "oOAELqbZay10",
        "colab_type": "code",
        "outputId": "4bd56ddd-322a-49a4-a68d-4e47c53d31c3",
        "colab": {
          "base_uri": "https://localhost:8080/",
          "height": 204
        }
      },
      "cell_type": "code",
      "source": [
        "df_nba = df_nba.drop(['GMS','PCT','CONF'], axis=1)\n",
        "df_nba.head()"
      ],
      "execution_count": 0,
      "outputs": [
        {
          "output_type": "execute_result",
          "data": {
            "text/html": [
              "<div>\n",
              "<style scoped>\n",
              "    .dataframe tbody tr th:only-of-type {\n",
              "        vertical-align: middle;\n",
              "    }\n",
              "\n",
              "    .dataframe tbody tr th {\n",
              "        vertical-align: top;\n",
              "    }\n",
              "\n",
              "    .dataframe thead th {\n",
              "        text-align: right;\n",
              "    }\n",
              "</style>\n",
              "<table border=\"1\" class=\"dataframe\">\n",
              "  <thead>\n",
              "    <tr style=\"text-align: right;\">\n",
              "      <th></th>\n",
              "      <th>TEAM</th>\n",
              "      <th>TOTAL_MILLIONS</th>\n",
              "      <th>AVG_MILLIONS</th>\n",
              "      <th>ELO</th>\n",
              "      <th>SALARY_MILLIONS</th>\n",
              "      <th>ENDORSEMENT_MILLIONS</th>\n",
              "      <th>VALUE_MILLIONS</th>\n",
              "    </tr>\n",
              "  </thead>\n",
              "  <tbody>\n",
              "    <tr>\n",
              "      <th>0</th>\n",
              "      <td>Chicago Bulls</td>\n",
              "      <td>0.888882</td>\n",
              "      <td>0.021680</td>\n",
              "      <td>1519</td>\n",
              "      <td>23.0</td>\n",
              "      <td>13.0</td>\n",
              "      <td>2500.0</td>\n",
              "    </tr>\n",
              "    <tr>\n",
              "      <th>1</th>\n",
              "      <td>Los Angeles Clippers</td>\n",
              "      <td>0.782609</td>\n",
              "      <td>0.019088</td>\n",
              "      <td>1636</td>\n",
              "      <td>23.0</td>\n",
              "      <td>8.0</td>\n",
              "      <td>2000.0</td>\n",
              "    </tr>\n",
              "    <tr>\n",
              "      <th>2</th>\n",
              "      <td>Cleveland Cavaliers</td>\n",
              "      <td>0.843042</td>\n",
              "      <td>0.020562</td>\n",
              "      <td>1545</td>\n",
              "      <td>24.5</td>\n",
              "      <td>34.0</td>\n",
              "      <td>1200.0</td>\n",
              "    </tr>\n",
              "    <tr>\n",
              "      <th>3</th>\n",
              "      <td>Golden State Warriors</td>\n",
              "      <td>0.803436</td>\n",
              "      <td>0.019596</td>\n",
              "      <td>1770</td>\n",
              "      <td>19.5</td>\n",
              "      <td>35.5</td>\n",
              "      <td>2600.0</td>\n",
              "    </tr>\n",
              "    <tr>\n",
              "      <th>4</th>\n",
              "      <td>Oklahoma City Thunder</td>\n",
              "      <td>0.746323</td>\n",
              "      <td>0.018203</td>\n",
              "      <td>1543</td>\n",
              "      <td>27.0</td>\n",
              "      <td>15.0</td>\n",
              "      <td>1025.0</td>\n",
              "    </tr>\n",
              "  </tbody>\n",
              "</table>\n",
              "</div>"
            ],
            "text/plain": [
              "                    TEAM  TOTAL_MILLIONS  AVG_MILLIONS   ELO  SALARY_MILLIONS  \\\n",
              "0          Chicago Bulls        0.888882      0.021680  1519             23.0   \n",
              "1   Los Angeles Clippers        0.782609      0.019088  1636             23.0   \n",
              "2    Cleveland Cavaliers        0.843042      0.020562  1545             24.5   \n",
              "3  Golden State Warriors        0.803436      0.019596  1770             19.5   \n",
              "4  Oklahoma City Thunder        0.746323      0.018203  1543             27.0   \n",
              "\n",
              "   ENDORSEMENT_MILLIONS  VALUE_MILLIONS  \n",
              "0                  13.0          2500.0  \n",
              "1                   8.0          2000.0  \n",
              "2                  34.0          1200.0  \n",
              "3                  35.5          2600.0  \n",
              "4                  15.0          1025.0  "
            ]
          },
          "metadata": {
            "tags": []
          },
          "execution_count": 62
        }
      ]
    },
    {
      "metadata": {
        "id": "BsZ-pT-ib92R",
        "colab_type": "text"
      },
      "cell_type": "markdown",
      "source": [
        "###Exploratory Data Analysis (EDA)\n"
      ]
    },
    {
      "metadata": {
        "id": "44oNrHAW6oiD",
        "colab_type": "text"
      },
      "cell_type": "markdown",
      "source": [
        "####Use Correlation Heatmap to Explore Correlation between Variables"
      ]
    },
    {
      "metadata": {
        "id": "9JtPqF7ig194",
        "colab_type": "code",
        "outputId": "76157049-365f-4249-8628-2a5cc853f1a0",
        "colab": {
          "base_uri": "https://localhost:8080/",
          "height": 403
        }
      },
      "cell_type": "code",
      "source": [
        "corr = df_nba.corr()\n",
        "sns.heatmap(corr, \n",
        "            xticklabels=corr.columns.values,\n",
        "            yticklabels=corr.columns.values)"
      ],
      "execution_count": 0,
      "outputs": [
        {
          "output_type": "execute_result",
          "data": {
            "text/plain": [
              "<matplotlib.axes._subplots.AxesSubplot at 0x7ffb9a6954e0>"
            ]
          },
          "metadata": {
            "tags": []
          },
          "execution_count": 17
        },
        {
          "output_type": "display_data",
          "data": {
            "image/png": "[encoded data removed]",
            "text/plain": [
              "<matplotlib.figure.Figure at 0x7ffb9a924c50>"
            ]
          },
          "metadata": {
            "tags": []
          }
        }
      ]
    },
    {
      "metadata": {
        "id": "ArTqiGHK6gV-",
        "colab_type": "text"
      },
      "cell_type": "markdown",
      "source": [
        "####Correlation DataFrame Output"
      ]
    },
    {
      "metadata": {
        "id": "naE63bpxg195",
        "colab_type": "code",
        "outputId": "3cebfa46-5e44-46fb-c665-35a23017ef84",
        "colab": {
          "base_uri": "https://localhost:8080/",
          "height": 235
        }
      },
      "cell_type": "code",
      "source": [
        "corr"
      ],
      "execution_count": 0,
      "outputs": [
        {
          "output_type": "execute_result",
          "data": {
            "text/html": [
              "<div>\n",
              "<style scoped>\n",
              "    .dataframe tbody tr th:only-of-type {\n",
              "        vertical-align: middle;\n",
              "    }\n",
              "\n",
              "    .dataframe tbody tr th {\n",
              "        vertical-align: top;\n",
              "    }\n",
              "\n",
              "    .dataframe thead th {\n",
              "        text-align: right;\n",
              "    }\n",
              "</style>\n",
              "<table border=\"1\" class=\"dataframe\">\n",
              "  <thead>\n",
              "    <tr style=\"text-align: right;\">\n",
              "      <th></th>\n",
              "      <th>TOTAL_MILLIONS</th>\n",
              "      <th>AVG_MILLIONS</th>\n",
              "      <th>ELO</th>\n",
              "      <th>SALARY_MILLIONS</th>\n",
              "      <th>ENDORSEMENT_MILLIONS</th>\n",
              "      <th>VALUE_MILLIONS</th>\n",
              "    </tr>\n",
              "  </thead>\n",
              "  <tbody>\n",
              "    <tr>\n",
              "      <th>TOTAL_MILLIONS</th>\n",
              "      <td>1.000000</td>\n",
              "      <td>1.000000</td>\n",
              "      <td>-0.220248</td>\n",
              "      <td>-0.558292</td>\n",
              "      <td>0.095669</td>\n",
              "      <td>0.375831</td>\n",
              "    </tr>\n",
              "    <tr>\n",
              "      <th>AVG_MILLIONS</th>\n",
              "      <td>1.000000</td>\n",
              "      <td>1.000000</td>\n",
              "      <td>-0.220218</td>\n",
              "      <td>-0.558298</td>\n",
              "      <td>0.095685</td>\n",
              "      <td>0.375801</td>\n",
              "    </tr>\n",
              "    <tr>\n",
              "      <th>ELO</th>\n",
              "      <td>-0.220248</td>\n",
              "      <td>-0.220218</td>\n",
              "      <td>1.000000</td>\n",
              "      <td>-0.376185</td>\n",
              "      <td>0.525191</td>\n",
              "      <td>-0.211154</td>\n",
              "    </tr>\n",
              "    <tr>\n",
              "      <th>SALARY_MILLIONS</th>\n",
              "      <td>-0.558292</td>\n",
              "      <td>-0.558298</td>\n",
              "      <td>-0.376185</td>\n",
              "      <td>1.000000</td>\n",
              "      <td>-0.288510</td>\n",
              "      <td>-0.686769</td>\n",
              "    </tr>\n",
              "    <tr>\n",
              "      <th>ENDORSEMENT_MILLIONS</th>\n",
              "      <td>0.095669</td>\n",
              "      <td>0.095685</td>\n",
              "      <td>0.525191</td>\n",
              "      <td>-0.288510</td>\n",
              "      <td>1.000000</td>\n",
              "      <td>-0.223090</td>\n",
              "    </tr>\n",
              "    <tr>\n",
              "      <th>VALUE_MILLIONS</th>\n",
              "      <td>0.375831</td>\n",
              "      <td>0.375801</td>\n",
              "      <td>-0.211154</td>\n",
              "      <td>-0.686769</td>\n",
              "      <td>-0.223090</td>\n",
              "      <td>1.000000</td>\n",
              "    </tr>\n",
              "  </tbody>\n",
              "</table>\n",
              "</div>"
            ],
            "text/plain": [
              "                      TOTAL_MILLIONS  AVG_MILLIONS       ELO  SALARY_MILLIONS  \\\n",
              "TOTAL_MILLIONS              1.000000      1.000000 -0.220248        -0.558292   \n",
              "AVG_MILLIONS                1.000000      1.000000 -0.220218        -0.558298   \n",
              "ELO                        -0.220248     -0.220218  1.000000        -0.376185   \n",
              "SALARY_MILLIONS            -0.558292     -0.558298 -0.376185         1.000000   \n",
              "ENDORSEMENT_MILLIONS        0.095669      0.095685  0.525191        -0.288510   \n",
              "VALUE_MILLIONS              0.375831      0.375801 -0.211154        -0.686769   \n",
              "\n",
              "                      ENDORSEMENT_MILLIONS  VALUE_MILLIONS  \n",
              "TOTAL_MILLIONS                    0.095669        0.375831  \n",
              "AVG_MILLIONS                      0.095685        0.375801  \n",
              "ELO                               0.525191       -0.211154  \n",
              "SALARY_MILLIONS                  -0.288510       -0.686769  \n",
              "ENDORSEMENT_MILLIONS              1.000000       -0.223090  \n",
              "VALUE_MILLIONS                   -0.223090        1.000000  "
            ]
          },
          "metadata": {
            "tags": []
          },
          "execution_count": 18
        }
      ]
    },
    {
      "metadata": {
        "id": "dSa6dqtFcJ__",
        "colab_type": "text"
      },
      "cell_type": "markdown",
      "source": [
        "#### Use Linear Regression to Select Significant Variables"
      ]
    },
    {
      "metadata": {
        "id": "RXHe3_DWg19_",
        "colab_type": "code",
        "outputId": "4a15b1a1-1d4a-4d5e-94a8-fabc51d4d1d9",
        "colab": {
          "base_uri": "https://localhost:8080/",
          "height": 527
        }
      },
      "cell_type": "code",
      "source": [
        "results = smf.ols('VALUE_MILLIONS ~TOTAL_MILLIONS+ELO+SALARY_MILLIONS+ENDORSEMENT_MILLIONS', data=df_nba).fit()\n",
        "print(results.summary())"
      ],
      "execution_count": 0,
      "outputs": [
        {
          "output_type": "stream",
          "text": [
            "                            OLS Regression Results                            \n",
            "==============================================================================\n",
            "Dep. Variable:         VALUE_MILLIONS   R-squared:                       0.875\n",
            "Model:                            OLS   Adj. R-squared:                  0.624\n",
            "Method:                 Least Squares   F-statistic:                     3.487\n",
            "Date:                Mon, 14 Jan 2019   Prob (F-statistic):              0.235\n",
            "Time:                        18:08:13   Log-Likelihood:                -49.064\n",
            "No. Observations:                   7   AIC:                             108.1\n",
            "Df Residuals:                       2   BIC:                             107.9\n",
            "Df Model:                           4                                         \n",
            "Covariance Type:            nonrobust                                         \n",
            "========================================================================================\n",
            "                           coef    std err          t      P>|t|      [0.025      0.975]\n",
            "----------------------------------------------------------------------------------------\n",
            "Intercept             2.368e+04   9180.274      2.579      0.123   -1.58e+04    6.32e+04\n",
            "TOTAL_MILLIONS       -5965.1611   4876.235     -1.223      0.346   -2.69e+04     1.5e+04\n",
            "ELO                     -4.6654      2.566     -1.818      0.211     -15.705       6.374\n",
            "SALARY_MILLIONS       -390.3458    119.839     -3.257      0.083    -905.970     125.279\n",
            "ENDORSEMENT_MILLIONS   -13.1718     22.581     -0.583      0.619    -110.330      83.986\n",
            "==============================================================================\n",
            "Omnibus:                          nan   Durbin-Watson:                   1.682\n",
            "Prob(Omnibus):                    nan   Jarque-Bera (JB):                0.753\n",
            "Skew:                           0.384   Prob(JB):                        0.686\n",
            "Kurtosis:                       1.589   Cond. No.                     8.48e+04\n",
            "==============================================================================\n",
            "\n",
            "Warnings:\n",
            "[1] Standard Errors assume that the covariance matrix of the errors is correctly specified.\n",
            "[2] The condition number is large, 8.48e+04. This might indicate that there are\n",
            "strong multicollinearity or other numerical problems.\n"
          ],
          "name": "stdout"
        }
      ]
    },
    {
      "metadata": {
        "id": "6UmYRUXMix0H",
        "colab_type": "code",
        "outputId": "3886e711-4362-48a0-b067-ac5e7b10e18c",
        "colab": {
          "base_uri": "https://localhost:8080/",
          "height": 510
        }
      },
      "cell_type": "code",
      "source": [
        "results = smf.ols('VALUE_MILLIONS ~TOTAL_MILLIONS+ELO+SALARY_MILLIONS', data=df_nba).fit()\n",
        "print(results.summary())"
      ],
      "execution_count": 0,
      "outputs": [
        {
          "output_type": "stream",
          "text": [
            "                            OLS Regression Results                            \n",
            "==============================================================================\n",
            "Dep. Variable:         VALUE_MILLIONS   R-squared:                       0.853\n",
            "Model:                            OLS   Adj. R-squared:                  0.707\n",
            "Method:                 Least Squares   F-statistic:                     5.814\n",
            "Date:                Mon, 14 Jan 2019   Prob (F-statistic):             0.0911\n",
            "Time:                        18:08:17   Log-Likelihood:                -49.614\n",
            "No. Observations:                   7   AIC:                             107.2\n",
            "Df Residuals:                       3   BIC:                             107.0\n",
            "Df Model:                           3                                         \n",
            "Covariance Type:            nonrobust                                         \n",
            "===================================================================================\n",
            "                      coef    std err          t      P>|t|      [0.025      0.975]\n",
            "-----------------------------------------------------------------------------------\n",
            "Intercept        2.535e+04   7705.563      3.289      0.046     824.031    4.99e+04\n",
            "TOTAL_MILLIONS  -6667.1334   4173.592     -1.597      0.208   -1.99e+04    6615.098\n",
            "ELO                -5.4330      1.945     -2.793      0.068     -11.624       0.758\n",
            "SALARY_MILLIONS  -397.0405    105.358     -3.768      0.033    -732.337     -61.745\n",
            "==============================================================================\n",
            "Omnibus:                          nan   Durbin-Watson:                   1.376\n",
            "Prob(Omnibus):                    nan   Jarque-Bera (JB):                0.520\n",
            "Skew:                           0.398   Prob(JB):                        0.771\n",
            "Kurtosis:                       1.927   Cond. No.                     8.08e+04\n",
            "==============================================================================\n",
            "\n",
            "Warnings:\n",
            "[1] Standard Errors assume that the covariance matrix of the errors is correctly specified.\n",
            "[2] The condition number is large, 8.08e+04. This might indicate that there are\n",
            "strong multicollinearity or other numerical problems.\n"
          ],
          "name": "stdout"
        }
      ]
    },
    {
      "metadata": {
        "id": "R477xvAGg1-H",
        "colab_type": "code",
        "colab": {}
      },
      "cell_type": "code",
      "source": [
        "nba_pred = df_nba.copy()"
      ],
      "execution_count": 0,
      "outputs": []
    },
    {
      "metadata": {
        "id": "eOotfovcg1-J",
        "colab_type": "code",
        "outputId": "564c6522-f661-4882-ee70-0ed2be5bb62d",
        "colab": {
          "base_uri": "https://localhost:8080/",
          "height": 266
        }
      },
      "cell_type": "code",
      "source": [
        "nba_pred[\"predicted\"] = results.predict()\n",
        "nba_pred"
      ],
      "execution_count": 0,
      "outputs": [
        {
          "output_type": "execute_result",
          "data": {
            "text/html": [
              "<div>\n",
              "<style scoped>\n",
              "    .dataframe tbody tr th:only-of-type {\n",
              "        vertical-align: middle;\n",
              "    }\n",
              "\n",
              "    .dataframe tbody tr th {\n",
              "        vertical-align: top;\n",
              "    }\n",
              "\n",
              "    .dataframe thead th {\n",
              "        text-align: right;\n",
              "    }\n",
              "</style>\n",
              "<table border=\"1\" class=\"dataframe\">\n",
              "  <thead>\n",
              "    <tr style=\"text-align: right;\">\n",
              "      <th></th>\n",
              "      <th>TEAM</th>\n",
              "      <th>TOTAL_MILLIONS</th>\n",
              "      <th>AVG_MILLIONS</th>\n",
              "      <th>ELO</th>\n",
              "      <th>SALARY_MILLIONS</th>\n",
              "      <th>ENDORSEMENT_MILLIONS</th>\n",
              "      <th>VALUE_MILLIONS</th>\n",
              "      <th>predicted</th>\n",
              "    </tr>\n",
              "  </thead>\n",
              "  <tbody>\n",
              "    <tr>\n",
              "      <th>0</th>\n",
              "      <td>Chicago Bulls</td>\n",
              "      <td>0.888882</td>\n",
              "      <td>0.021680</td>\n",
              "      <td>1519</td>\n",
              "      <td>23.0</td>\n",
              "      <td>13.0</td>\n",
              "      <td>2500.0</td>\n",
              "      <td>2035.642128</td>\n",
              "    </tr>\n",
              "    <tr>\n",
              "      <th>1</th>\n",
              "      <td>Los Angeles Clippers</td>\n",
              "      <td>0.782609</td>\n",
              "      <td>0.019088</td>\n",
              "      <td>1636</td>\n",
              "      <td>23.0</td>\n",
              "      <td>8.0</td>\n",
              "      <td>2000.0</td>\n",
              "      <td>2108.519258</td>\n",
              "    </tr>\n",
              "    <tr>\n",
              "      <th>2</th>\n",
              "      <td>Cleveland Cavaliers</td>\n",
              "      <td>0.843042</td>\n",
              "      <td>0.020562</td>\n",
              "      <td>1545</td>\n",
              "      <td>24.5</td>\n",
              "      <td>34.0</td>\n",
              "      <td>1200.0</td>\n",
              "      <td>1604.445142</td>\n",
              "    </tr>\n",
              "    <tr>\n",
              "      <th>3</th>\n",
              "      <td>Golden State Warriors</td>\n",
              "      <td>0.803436</td>\n",
              "      <td>0.019596</td>\n",
              "      <td>1770</td>\n",
              "      <td>19.5</td>\n",
              "      <td>35.5</td>\n",
              "      <td>2600.0</td>\n",
              "      <td>2631.284859</td>\n",
              "    </tr>\n",
              "    <tr>\n",
              "      <th>4</th>\n",
              "      <td>Oklahoma City Thunder</td>\n",
              "      <td>0.746323</td>\n",
              "      <td>0.018203</td>\n",
              "      <td>1543</td>\n",
              "      <td>27.0</td>\n",
              "      <td>15.0</td>\n",
              "      <td>1025.0</td>\n",
              "      <td>1267.548259</td>\n",
              "    </tr>\n",
              "    <tr>\n",
              "      <th>5</th>\n",
              "      <td>New York Knicks</td>\n",
              "      <td>0.810741</td>\n",
              "      <td>0.019774</td>\n",
              "      <td>1374</td>\n",
              "      <td>23.0</td>\n",
              "      <td>11.0</td>\n",
              "      <td>3300.0</td>\n",
              "      <td>3344.401290</td>\n",
              "    </tr>\n",
              "    <tr>\n",
              "      <th>6</th>\n",
              "      <td>Houston Rockets</td>\n",
              "      <td>0.695903</td>\n",
              "      <td>0.016973</td>\n",
              "      <td>1602</td>\n",
              "      <td>27.0</td>\n",
              "      <td>20.0</td>\n",
              "      <td>1650.0</td>\n",
              "      <td>1283.159064</td>\n",
              "    </tr>\n",
              "  </tbody>\n",
              "</table>\n",
              "</div>"
            ],
            "text/plain": [
              "                    TEAM  TOTAL_MILLIONS  AVG_MILLIONS   ELO  SALARY_MILLIONS  \\\n",
              "0          Chicago Bulls        0.888882      0.021680  1519             23.0   \n",
              "1   Los Angeles Clippers        0.782609      0.019088  1636             23.0   \n",
              "2    Cleveland Cavaliers        0.843042      0.020562  1545             24.5   \n",
              "3  Golden State Warriors        0.803436      0.019596  1770             19.5   \n",
              "4  Oklahoma City Thunder        0.746323      0.018203  1543             27.0   \n",
              "5        New York Knicks        0.810741      0.019774  1374             23.0   \n",
              "6        Houston Rockets        0.695903      0.016973  1602             27.0   \n",
              "\n",
              "   ENDORSEMENT_MILLIONS  VALUE_MILLIONS    predicted  \n",
              "0                  13.0          2500.0  2035.642128  \n",
              "1                   8.0          2000.0  2108.519258  \n",
              "2                  34.0          1200.0  1604.445142  \n",
              "3                  35.5          2600.0  2631.284859  \n",
              "4                  15.0          1025.0  1267.548259  \n",
              "5                  11.0          3300.0  3344.401290  \n",
              "6                  20.0          1650.0  1283.159064  "
            ]
          },
          "metadata": {
            "tags": []
          },
          "execution_count": 72
        }
      ]
    },
    {
      "metadata": {
        "id": "ZgCjsBrncYuV",
        "colab_type": "text"
      },
      "cell_type": "markdown",
      "source": [
        "#### Use Seaborn lmplot to Plot Predicted vs Actual Values\n",
        "\n"
      ]
    },
    {
      "metadata": {
        "id": "tkXlniu4g1-O",
        "colab_type": "code",
        "outputId": "e7d22c23-b03c-4fec-efa0-48a53e9e2d51",
        "colab": {
          "base_uri": "https://localhost:8080/",
          "height": 386
        }
      },
      "cell_type": "code",
      "source": [
        "sns.lmplot(x=\"predicted\", y=\"VALUE_MILLIONS\", data=nba_pred)"
      ],
      "execution_count": 0,
      "outputs": [
        {
          "output_type": "execute_result",
          "data": {
            "text/plain": [
              "<seaborn.axisgrid.FacetGrid at 0x7ffb971e23c8>"
            ]
          },
          "metadata": {
            "tags": []
          },
          "execution_count": 73
        },
        {
          "output_type": "display_data",
          "data": {
            "image/png": "[encoded data removed]",
            "text/plain": [
              "<matplotlib.figure.Figure at 0x7ffb971e2a20>"
            ]
          },
          "metadata": {
            "tags": []
          }
        }
      ]
    },
    {
      "metadata": {
        "id": "odFCgj-j70d-",
        "colab_type": "text"
      },
      "cell_type": "markdown",
      "source": [
        "#### Add Housing Price into Model"
      ]
    },
    {
      "metadata": {
        "id": "QMKXg1Svg1-p",
        "colab_type": "code",
        "outputId": "22fb5f5c-1adf-4028-f7a4-3f5afef9fa2a",
        "colab": {
          "base_uri": "https://localhost:8080/",
          "height": 204
        }
      },
      "cell_type": "code",
      "source": [
        "val_housing_win_df = pd.read_csv(\"https://raw.githubusercontent.com/noahgift/socialpowernba/master/data/nba_2017_att_val_elo_win_housing.csv\");val_housing_win_df.head()\n",
        "val_housing_win_df = val_housing_win_df[['TEAM','TOTAL_ATTENDANCE_MILLIONS','VALUE_MILLIONS','ELO','MEDIAN_HOME_PRICE_COUNTY_MILLIONS','COUNTY_POPULATION_MILLIONS']]\n",
        "val_housing_win_df.head()"
      ],
      "execution_count": 0,
      "outputs": [
        {
          "output_type": "execute_result",
          "data": {
            "text/html": [
              "<div>\n",
              "<style scoped>\n",
              "    .dataframe tbody tr th:only-of-type {\n",
              "        vertical-align: middle;\n",
              "    }\n",
              "\n",
              "    .dataframe tbody tr th {\n",
              "        vertical-align: top;\n",
              "    }\n",
              "\n",
              "    .dataframe thead th {\n",
              "        text-align: right;\n",
              "    }\n",
              "</style>\n",
              "<table border=\"1\" class=\"dataframe\">\n",
              "  <thead>\n",
              "    <tr style=\"text-align: right;\">\n",
              "      <th></th>\n",
              "      <th>TEAM</th>\n",
              "      <th>TOTAL_ATTENDANCE_MILLIONS</th>\n",
              "      <th>VALUE_MILLIONS</th>\n",
              "      <th>ELO</th>\n",
              "      <th>MEDIAN_HOME_PRICE_COUNTY_MILLIONS</th>\n",
              "      <th>COUNTY_POPULATION_MILLIONS</th>\n",
              "    </tr>\n",
              "  </thead>\n",
              "  <tbody>\n",
              "    <tr>\n",
              "      <th>0</th>\n",
              "      <td>Chicago Bulls</td>\n",
              "      <td>0.888882</td>\n",
              "      <td>2500</td>\n",
              "      <td>1519</td>\n",
              "      <td>269900.0</td>\n",
              "      <td>5.20</td>\n",
              "    </tr>\n",
              "    <tr>\n",
              "      <th>1</th>\n",
              "      <td>Dallas Mavericks</td>\n",
              "      <td>0.811366</td>\n",
              "      <td>1450</td>\n",
              "      <td>1420</td>\n",
              "      <td>314990.0</td>\n",
              "      <td>2.57</td>\n",
              "    </tr>\n",
              "    <tr>\n",
              "      <th>2</th>\n",
              "      <td>Sacramento Kings</td>\n",
              "      <td>0.721928</td>\n",
              "      <td>1075</td>\n",
              "      <td>1393</td>\n",
              "      <td>343950.0</td>\n",
              "      <td>1.51</td>\n",
              "    </tr>\n",
              "    <tr>\n",
              "      <th>3</th>\n",
              "      <td>Miami Heat</td>\n",
              "      <td>0.805400</td>\n",
              "      <td>1350</td>\n",
              "      <td>1569</td>\n",
              "      <td>389000.0</td>\n",
              "      <td>2.71</td>\n",
              "    </tr>\n",
              "    <tr>\n",
              "      <th>4</th>\n",
              "      <td>Toronto Raptors</td>\n",
              "      <td>0.813050</td>\n",
              "      <td>1125</td>\n",
              "      <td>1600</td>\n",
              "      <td>390000.0</td>\n",
              "      <td>1.10</td>\n",
              "    </tr>\n",
              "  </tbody>\n",
              "</table>\n",
              "</div>"
            ],
            "text/plain": [
              "               TEAM  TOTAL_ATTENDANCE_MILLIONS  VALUE_MILLIONS   ELO  \\\n",
              "0     Chicago Bulls                   0.888882            2500  1519   \n",
              "1  Dallas Mavericks                   0.811366            1450  1420   \n",
              "2  Sacramento Kings                   0.721928            1075  1393   \n",
              "3        Miami Heat                   0.805400            1350  1569   \n",
              "4   Toronto Raptors                   0.813050            1125  1600   \n",
              "\n",
              "   MEDIAN_HOME_PRICE_COUNTY_MILLIONS  COUNTY_POPULATION_MILLIONS  \n",
              "0                           269900.0                        5.20  \n",
              "1                           314990.0                        2.57  \n",
              "2                           343950.0                        1.51  \n",
              "3                           389000.0                        2.71  \n",
              "4                           390000.0                        1.10  "
            ]
          },
          "metadata": {
            "tags": []
          },
          "execution_count": 74
        }
      ]
    },
    {
      "metadata": {
        "id": "72idvVwNcE61",
        "colab_type": "code",
        "outputId": "0a12c21a-6fba-45f6-8d0c-fc1018b8d0cc",
        "colab": {
          "base_uri": "https://localhost:8080/",
          "height": 204
        }
      },
      "cell_type": "code",
      "source": [
        "df_nba = df_nba[['TEAM','SALARY_MILLIONS']].merge(val_housing_win_df, how='inner', on=\"TEAM\")\n",
        "df_nba.head()"
      ],
      "execution_count": 0,
      "outputs": [
        {
          "output_type": "execute_result",
          "data": {
            "text/html": [
              "<div>\n",
              "<style scoped>\n",
              "    .dataframe tbody tr th:only-of-type {\n",
              "        vertical-align: middle;\n",
              "    }\n",
              "\n",
              "    .dataframe tbody tr th {\n",
              "        vertical-align: top;\n",
              "    }\n",
              "\n",
              "    .dataframe thead th {\n",
              "        text-align: right;\n",
              "    }\n",
              "</style>\n",
              "<table border=\"1\" class=\"dataframe\">\n",
              "  <thead>\n",
              "    <tr style=\"text-align: right;\">\n",
              "      <th></th>\n",
              "      <th>TEAM</th>\n",
              "      <th>SALARY_MILLIONS</th>\n",
              "      <th>TOTAL_ATTENDANCE_MILLIONS</th>\n",
              "      <th>VALUE_MILLIONS</th>\n",
              "      <th>ELO</th>\n",
              "      <th>MEDIAN_HOME_PRICE_COUNTY_MILLIONS</th>\n",
              "      <th>COUNTY_POPULATION_MILLIONS</th>\n",
              "    </tr>\n",
              "  </thead>\n",
              "  <tbody>\n",
              "    <tr>\n",
              "      <th>0</th>\n",
              "      <td>Chicago Bulls</td>\n",
              "      <td>23.0</td>\n",
              "      <td>0.888882</td>\n",
              "      <td>2500</td>\n",
              "      <td>1519</td>\n",
              "      <td>269900.0</td>\n",
              "      <td>5.20</td>\n",
              "    </tr>\n",
              "    <tr>\n",
              "      <th>1</th>\n",
              "      <td>Los Angeles Clippers</td>\n",
              "      <td>23.0</td>\n",
              "      <td>0.782609</td>\n",
              "      <td>2000</td>\n",
              "      <td>1636</td>\n",
              "      <td>625000.0</td>\n",
              "      <td>10.10</td>\n",
              "    </tr>\n",
              "    <tr>\n",
              "      <th>2</th>\n",
              "      <td>Cleveland Cavaliers</td>\n",
              "      <td>24.5</td>\n",
              "      <td>0.843042</td>\n",
              "      <td>1200</td>\n",
              "      <td>1545</td>\n",
              "      <td>137500.0</td>\n",
              "      <td>1.26</td>\n",
              "    </tr>\n",
              "    <tr>\n",
              "      <th>3</th>\n",
              "      <td>Golden State Warriors</td>\n",
              "      <td>19.5</td>\n",
              "      <td>0.803436</td>\n",
              "      <td>2600</td>\n",
              "      <td>1770</td>\n",
              "      <td>754990.0</td>\n",
              "      <td>1.50</td>\n",
              "    </tr>\n",
              "    <tr>\n",
              "      <th>4</th>\n",
              "      <td>Oklahoma City Thunder</td>\n",
              "      <td>27.0</td>\n",
              "      <td>0.746323</td>\n",
              "      <td>1025</td>\n",
              "      <td>1543</td>\n",
              "      <td>209556.5</td>\n",
              "      <td>0.78</td>\n",
              "    </tr>\n",
              "  </tbody>\n",
              "</table>\n",
              "</div>"
            ],
            "text/plain": [
              "                    TEAM  SALARY_MILLIONS  TOTAL_ATTENDANCE_MILLIONS  \\\n",
              "0          Chicago Bulls             23.0                   0.888882   \n",
              "1   Los Angeles Clippers             23.0                   0.782609   \n",
              "2    Cleveland Cavaliers             24.5                   0.843042   \n",
              "3  Golden State Warriors             19.5                   0.803436   \n",
              "4  Oklahoma City Thunder             27.0                   0.746323   \n",
              "\n",
              "   VALUE_MILLIONS   ELO  MEDIAN_HOME_PRICE_COUNTY_MILLIONS  \\\n",
              "0            2500  1519                           269900.0   \n",
              "1            2000  1636                           625000.0   \n",
              "2            1200  1545                           137500.0   \n",
              "3            2600  1770                           754990.0   \n",
              "4            1025  1543                           209556.5   \n",
              "\n",
              "   COUNTY_POPULATION_MILLIONS  \n",
              "0                        5.20  \n",
              "1                       10.10  \n",
              "2                        1.26  \n",
              "3                        1.50  \n",
              "4                        0.78  "
            ]
          },
          "metadata": {
            "tags": []
          },
          "execution_count": 75
        }
      ]
    },
    {
      "metadata": {
        "colab_type": "text",
        "id": "iqtK3UVYmZeT"
      },
      "cell_type": "markdown",
      "source": [
        "####Correlation Heatmap"
      ]
    },
    {
      "metadata": {
        "colab_type": "code",
        "outputId": "98a27337-5b0f-4cfd-8229-7babeef2c856",
        "id": "Fxl64BXpmZeV",
        "colab": {
          "base_uri": "https://localhost:8080/",
          "height": 484
        }
      },
      "cell_type": "code",
      "source": [
        "corr = df_nba.corr()\n",
        "sns.heatmap(corr, \n",
        "            xticklabels=corr.columns.values,\n",
        "            yticklabels=corr.columns.values)"
      ],
      "execution_count": 0,
      "outputs": [
        {
          "output_type": "execute_result",
          "data": {
            "text/plain": [
              "<matplotlib.axes._subplots.AxesSubplot at 0x7ffb971ec5f8>"
            ]
          },
          "metadata": {
            "tags": []
          },
          "execution_count": 76
        },
        {
          "output_type": "display_data",
          "data": {
            "image/png": "[encoded data removed]",
            "text/plain": [
              "<matplotlib.figure.Figure at 0x7ffb971787b8>"
            ]
          },
          "metadata": {
            "tags": []
          }
        }
      ]
    },
    {
      "metadata": {
        "colab_type": "text",
        "id": "qs0-AknpmZeb"
      },
      "cell_type": "markdown",
      "source": [
        "####Correlation DataFrame Output"
      ]
    },
    {
      "metadata": {
        "colab_type": "code",
        "outputId": "30b00831-200c-48f8-cb93-50aefcf7f0ab",
        "id": "WzdmeVWMmZec",
        "colab": {
          "base_uri": "https://localhost:8080/",
          "height": 255
        }
      },
      "cell_type": "code",
      "source": [
        "corr"
      ],
      "execution_count": 0,
      "outputs": [
        {
          "output_type": "execute_result",
          "data": {
            "text/html": [
              "<div>\n",
              "<style scoped>\n",
              "    .dataframe tbody tr th:only-of-type {\n",
              "        vertical-align: middle;\n",
              "    }\n",
              "\n",
              "    .dataframe tbody tr th {\n",
              "        vertical-align: top;\n",
              "    }\n",
              "\n",
              "    .dataframe thead th {\n",
              "        text-align: right;\n",
              "    }\n",
              "</style>\n",
              "<table border=\"1\" class=\"dataframe\">\n",
              "  <thead>\n",
              "    <tr style=\"text-align: right;\">\n",
              "      <th></th>\n",
              "      <th>SALARY_MILLIONS</th>\n",
              "      <th>TOTAL_ATTENDANCE_MILLIONS</th>\n",
              "      <th>VALUE_MILLIONS</th>\n",
              "      <th>ELO</th>\n",
              "      <th>MEDIAN_HOME_PRICE_COUNTY_MILLIONS</th>\n",
              "      <th>COUNTY_POPULATION_MILLIONS</th>\n",
              "    </tr>\n",
              "  </thead>\n",
              "  <tbody>\n",
              "    <tr>\n",
              "      <th>SALARY_MILLIONS</th>\n",
              "      <td>1.000000</td>\n",
              "      <td>-0.558292</td>\n",
              "      <td>-0.686769</td>\n",
              "      <td>-0.376185</td>\n",
              "      <td>-0.446912</td>\n",
              "      <td>-0.064376</td>\n",
              "    </tr>\n",
              "    <tr>\n",
              "      <th>TOTAL_ATTENDANCE_MILLIONS</th>\n",
              "      <td>-0.558292</td>\n",
              "      <td>1.000000</td>\n",
              "      <td>0.375831</td>\n",
              "      <td>-0.220248</td>\n",
              "      <td>0.080405</td>\n",
              "      <td>-0.040305</td>\n",
              "    </tr>\n",
              "    <tr>\n",
              "      <th>VALUE_MILLIONS</th>\n",
              "      <td>-0.686769</td>\n",
              "      <td>0.375831</td>\n",
              "      <td>1.000000</td>\n",
              "      <td>-0.211154</td>\n",
              "      <td>0.828183</td>\n",
              "      <td>0.077663</td>\n",
              "    </tr>\n",
              "    <tr>\n",
              "      <th>ELO</th>\n",
              "      <td>-0.376185</td>\n",
              "      <td>-0.220248</td>\n",
              "      <td>-0.211154</td>\n",
              "      <td>1.000000</td>\n",
              "      <td>-0.393855</td>\n",
              "      <td>0.196292</td>\n",
              "    </tr>\n",
              "    <tr>\n",
              "      <th>MEDIAN_HOME_PRICE_COUNTY_MILLIONS</th>\n",
              "      <td>-0.446912</td>\n",
              "      <td>0.080405</td>\n",
              "      <td>0.828183</td>\n",
              "      <td>-0.393855</td>\n",
              "      <td>1.000000</td>\n",
              "      <td>-0.092351</td>\n",
              "    </tr>\n",
              "    <tr>\n",
              "      <th>COUNTY_POPULATION_MILLIONS</th>\n",
              "      <td>-0.064376</td>\n",
              "      <td>-0.040305</td>\n",
              "      <td>0.077663</td>\n",
              "      <td>0.196292</td>\n",
              "      <td>-0.092351</td>\n",
              "      <td>1.000000</td>\n",
              "    </tr>\n",
              "  </tbody>\n",
              "</table>\n",
              "</div>"
            ],
            "text/plain": [
              "                                   SALARY_MILLIONS  TOTAL_ATTENDANCE_MILLIONS  \\\n",
              "SALARY_MILLIONS                           1.000000                  -0.558292   \n",
              "TOTAL_ATTENDANCE_MILLIONS                -0.558292                   1.000000   \n",
              "VALUE_MILLIONS                           -0.686769                   0.375831   \n",
              "ELO                                      -0.376185                  -0.220248   \n",
              "MEDIAN_HOME_PRICE_COUNTY_MILLIONS        -0.446912                   0.080405   \n",
              "COUNTY_POPULATION_MILLIONS               -0.064376                  -0.040305   \n",
              "\n",
              "                                   VALUE_MILLIONS       ELO  \\\n",
              "SALARY_MILLIONS                         -0.686769 -0.376185   \n",
              "TOTAL_ATTENDANCE_MILLIONS                0.375831 -0.220248   \n",
              "VALUE_MILLIONS                           1.000000 -0.211154   \n",
              "ELO                                     -0.211154  1.000000   \n",
              "MEDIAN_HOME_PRICE_COUNTY_MILLIONS        0.828183 -0.393855   \n",
              "COUNTY_POPULATION_MILLIONS               0.077663  0.196292   \n",
              "\n",
              "                                   MEDIAN_HOME_PRICE_COUNTY_MILLIONS  \\\n",
              "SALARY_MILLIONS                                            -0.446912   \n",
              "TOTAL_ATTENDANCE_MILLIONS                                   0.080405   \n",
              "VALUE_MILLIONS                                              0.828183   \n",
              "ELO                                                        -0.393855   \n",
              "MEDIAN_HOME_PRICE_COUNTY_MILLIONS                           1.000000   \n",
              "COUNTY_POPULATION_MILLIONS                                 -0.092351   \n",
              "\n",
              "                                   COUNTY_POPULATION_MILLIONS  \n",
              "SALARY_MILLIONS                                     -0.064376  \n",
              "TOTAL_ATTENDANCE_MILLIONS                           -0.040305  \n",
              "VALUE_MILLIONS                                       0.077663  \n",
              "ELO                                                  0.196292  \n",
              "MEDIAN_HOME_PRICE_COUNTY_MILLIONS                   -0.092351  \n",
              "COUNTY_POPULATION_MILLIONS                           1.000000  "
            ]
          },
          "metadata": {
            "tags": []
          },
          "execution_count": 77
        }
      ]
    },
    {
      "metadata": {
        "id": "g553dDsRg1-s",
        "colab_type": "code",
        "outputId": "4787937e-1275-496a-95b6-8edfee592fda",
        "colab": {
          "base_uri": "https://localhost:8080/",
          "height": 527
        }
      },
      "cell_type": "code",
      "source": [
        "results = smf.ols('VALUE_MILLIONS ~TOTAL_ATTENDANCE_MILLIONS+ELO+SALARY_MILLIONS+MEDIAN_HOME_PRICE_COUNTY_MILLIONS', data=df_nba).fit()\n",
        "print(results.summary())"
      ],
      "execution_count": 0,
      "outputs": [
        {
          "output_type": "stream",
          "text": [
            "                            OLS Regression Results                            \n",
            "==============================================================================\n",
            "Dep. Variable:         VALUE_MILLIONS   R-squared:                       0.978\n",
            "Model:                            OLS   Adj. R-squared:                  0.935\n",
            "Method:                 Least Squares   F-statistic:                     22.73\n",
            "Date:                Mon, 14 Jan 2019   Prob (F-statistic):             0.0426\n",
            "Time:                        18:10:49   Log-Likelihood:                -42.896\n",
            "No. Observations:                   7   AIC:                             95.79\n",
            "Df Residuals:                       2   BIC:                             95.52\n",
            "Df Model:                           4                                         \n",
            "Covariance Type:            nonrobust                                         \n",
            "=====================================================================================================\n",
            "                                        coef    std err          t      P>|t|      [0.025      0.975]\n",
            "-----------------------------------------------------------------------------------------------------\n",
            "Intercept                          2.592e+05   6.87e+04      3.775      0.064   -3.62e+04    5.55e+05\n",
            "TOTAL_ATTENDANCE_MILLIONS         -9.402e+04   2.57e+04     -3.660      0.067   -2.05e+05    1.65e+04\n",
            "ELO                                 -59.4379     15.860     -3.748      0.064    -127.677       8.801\n",
            "SALARY_MILLIONS                   -3483.8618    906.357     -3.844      0.062   -7383.600     415.876\n",
            "MEDIAN_HOME_PRICE_COUNTY_MILLIONS    -0.0103      0.003     -3.411      0.076      -0.023       0.003\n",
            "==============================================================================\n",
            "Omnibus:                          nan   Durbin-Watson:                   1.628\n",
            "Prob(Omnibus):                    nan   Jarque-Bera (JB):                0.894\n",
            "Skew:                           0.854   Prob(JB):                        0.639\n",
            "Kurtosis:                       2.616   Cond. No.                     7.19e+08\n",
            "==============================================================================\n",
            "\n",
            "Warnings:\n",
            "[1] Standard Errors assume that the covariance matrix of the errors is correctly specified.\n",
            "[2] The condition number is large, 7.19e+08. This might indicate that there are\n",
            "strong multicollinearity or other numerical problems.\n"
          ],
          "name": "stdout"
        }
      ]
    },
    {
      "metadata": {
        "colab_type": "code",
        "outputId": "6e7e8cd9-3caf-4ab7-c66b-63f254210118",
        "id": "K9eiJC5GfiJ5",
        "colab": {
          "base_uri": "https://localhost:8080/",
          "height": 266
        }
      },
      "cell_type": "code",
      "source": [
        "nba_pred[\"predicted\"] = results.predict()\n",
        "nba_pred"
      ],
      "execution_count": 0,
      "outputs": [
        {
          "output_type": "execute_result",
          "data": {
            "text/html": [
              "<div>\n",
              "<style scoped>\n",
              "    .dataframe tbody tr th:only-of-type {\n",
              "        vertical-align: middle;\n",
              "    }\n",
              "\n",
              "    .dataframe tbody tr th {\n",
              "        vertical-align: top;\n",
              "    }\n",
              "\n",
              "    .dataframe thead th {\n",
              "        text-align: right;\n",
              "    }\n",
              "</style>\n",
              "<table border=\"1\" class=\"dataframe\">\n",
              "  <thead>\n",
              "    <tr style=\"text-align: right;\">\n",
              "      <th></th>\n",
              "      <th>TEAM</th>\n",
              "      <th>TOTAL_MILLIONS</th>\n",
              "      <th>AVG_MILLIONS</th>\n",
              "      <th>ELO</th>\n",
              "      <th>SALARY_MILLIONS</th>\n",
              "      <th>ENDORSEMENT_MILLIONS</th>\n",
              "      <th>VALUE_MILLIONS</th>\n",
              "      <th>predicted</th>\n",
              "    </tr>\n",
              "  </thead>\n",
              "  <tbody>\n",
              "    <tr>\n",
              "      <th>0</th>\n",
              "      <td>Chicago Bulls</td>\n",
              "      <td>0.888882</td>\n",
              "      <td>0.021680</td>\n",
              "      <td>1519</td>\n",
              "      <td>23.0</td>\n",
              "      <td>13.0</td>\n",
              "      <td>2500.0</td>\n",
              "      <td>2413.888114</td>\n",
              "    </tr>\n",
              "    <tr>\n",
              "      <th>1</th>\n",
              "      <td>Los Angeles Clippers</td>\n",
              "      <td>0.782609</td>\n",
              "      <td>0.019088</td>\n",
              "      <td>1636</td>\n",
              "      <td>23.0</td>\n",
              "      <td>8.0</td>\n",
              "      <td>2000.0</td>\n",
              "      <td>1779.510605</td>\n",
              "    </tr>\n",
              "    <tr>\n",
              "      <th>2</th>\n",
              "      <td>Cleveland Cavaliers</td>\n",
              "      <td>0.843042</td>\n",
              "      <td>0.020562</td>\n",
              "      <td>1545</td>\n",
              "      <td>24.5</td>\n",
              "      <td>34.0</td>\n",
              "      <td>1200.0</td>\n",
              "      <td>1321.861961</td>\n",
              "    </tr>\n",
              "    <tr>\n",
              "      <th>3</th>\n",
              "      <td>Golden State Warriors</td>\n",
              "      <td>0.803436</td>\n",
              "      <td>0.019596</td>\n",
              "      <td>1770</td>\n",
              "      <td>19.5</td>\n",
              "      <td>35.5</td>\n",
              "      <td>2600.0</td>\n",
              "      <td>2705.894828</td>\n",
              "    </tr>\n",
              "    <tr>\n",
              "      <th>4</th>\n",
              "      <td>Oklahoma City Thunder</td>\n",
              "      <td>0.746323</td>\n",
              "      <td>0.018203</td>\n",
              "      <td>1543</td>\n",
              "      <td>27.0</td>\n",
              "      <td>15.0</td>\n",
              "      <td>1025.0</td>\n",
              "      <td>1079.663239</td>\n",
              "    </tr>\n",
              "    <tr>\n",
              "      <th>5</th>\n",
              "      <td>New York Knicks</td>\n",
              "      <td>0.810741</td>\n",
              "      <td>0.019774</td>\n",
              "      <td>1374</td>\n",
              "      <td>23.0</td>\n",
              "      <td>11.0</td>\n",
              "      <td>3300.0</td>\n",
              "      <td>3331.884727</td>\n",
              "    </tr>\n",
              "    <tr>\n",
              "      <th>6</th>\n",
              "      <td>Houston Rockets</td>\n",
              "      <td>0.695903</td>\n",
              "      <td>0.016973</td>\n",
              "      <td>1602</td>\n",
              "      <td>27.0</td>\n",
              "      <td>20.0</td>\n",
              "      <td>1650.0</td>\n",
              "      <td>1642.296474</td>\n",
              "    </tr>\n",
              "  </tbody>\n",
              "</table>\n",
              "</div>"
            ],
            "text/plain": [
              "                    TEAM  TOTAL_MILLIONS  AVG_MILLIONS   ELO  SALARY_MILLIONS  \\\n",
              "0          Chicago Bulls        0.888882      0.021680  1519             23.0   \n",
              "1   Los Angeles Clippers        0.782609      0.019088  1636             23.0   \n",
              "2    Cleveland Cavaliers        0.843042      0.020562  1545             24.5   \n",
              "3  Golden State Warriors        0.803436      0.019596  1770             19.5   \n",
              "4  Oklahoma City Thunder        0.746323      0.018203  1543             27.0   \n",
              "5        New York Knicks        0.810741      0.019774  1374             23.0   \n",
              "6        Houston Rockets        0.695903      0.016973  1602             27.0   \n",
              "\n",
              "   ENDORSEMENT_MILLIONS  VALUE_MILLIONS    predicted  \n",
              "0                  13.0          2500.0  2413.888114  \n",
              "1                   8.0          2000.0  1779.510605  \n",
              "2                  34.0          1200.0  1321.861961  \n",
              "3                  35.5          2600.0  2705.894828  \n",
              "4                  15.0          1025.0  1079.663239  \n",
              "5                  11.0          3300.0  3331.884727  \n",
              "6                  20.0          1650.0  1642.296474  "
            ]
          },
          "metadata": {
            "tags": []
          },
          "execution_count": 79
        }
      ]
    },
    {
      "metadata": {
        "colab_type": "text",
        "id": "l6CbGzmRfiJ9"
      },
      "cell_type": "markdown",
      "source": [
        "#### Use Seaborn lmplot to Plot Predicted vs Actual Values\n",
        "\n"
      ]
    },
    {
      "metadata": {
        "colab_type": "code",
        "outputId": "9cc8e14e-21ee-4396-cda9-8683ef228894",
        "id": "WsYOOT4HfiJ-",
        "colab": {
          "base_uri": "https://localhost:8080/",
          "height": 386
        }
      },
      "cell_type": "code",
      "source": [
        "sns.lmplot(x=\"predicted\", y=\"VALUE_MILLIONS\", data=nba_pred)"
      ],
      "execution_count": 0,
      "outputs": [
        {
          "output_type": "execute_result",
          "data": {
            "text/plain": [
              "<seaborn.axisgrid.FacetGrid at 0x7ffb97110780>"
            ]
          },
          "metadata": {
            "tags": []
          },
          "execution_count": 80
        },
        {
          "output_type": "display_data",
          "data": {
            "image/png": "[encoded data removed]",
            "text/plain": [
              "<matplotlib.figure.Figure at 0x7ffb97156860>"
            ]
          },
          "metadata": {
            "tags": []
          }
        }
      ]
    }
  ]
}